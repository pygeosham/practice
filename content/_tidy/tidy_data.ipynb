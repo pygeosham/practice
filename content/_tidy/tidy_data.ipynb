{
  "metadata": {
    "kernelspec": {
      "name": "python",
      "display_name": "Python (Pyodide)",
      "language": "python"
    },
    "language_info": {
      "codemirror_mode": {
        "name": "python",
        "version": 3
      },
      "file_extension": ".py",
      "mimetype": "text/x-python",
      "name": "python",
      "nbconvert_exporter": "python",
      "pygments_lexer": "ipython3",
      "version": "3.8"
    }
  },
  "nbformat_minor": 4,
  "nbformat": 4,
  "cells": [
    {
      "cell_type": "markdown",
      "source": "# 整然(Tidy)データ",
      "metadata": {}
    },
    {
      "cell_type": "markdown",
      "source": "## この環境(jupyter notebook)で処理を実行するには",
      "metadata": {}
    },
    {
      "cell_type": "markdown",
      "source": "---\n\n+ コード(ここではpythonのコード や 各種のコマンド)や説明書き(markdown)の書かれたブロックのことをセルと呼びます\n+ コードの実行は対象セルがアクティブな状態で **SHIFT + ENTER** または **Ctrl + ENTER** で実施します\n  + 対象セルをアクティブにするにはセルをクリックすればOKです(セルの左横に青いバーが表示されます)\n    + 「SHIFT + ENTER」:対象セルを実行→次のセルをアクティブにする\n    + 「Ctrl + ENTER」:対象セルを実行→現在のセルがアクティブのまま\n+ まずは**上から順に実行**していってください\n    + 実行中or実行完了の判断は右上に位置しているPython(Pyodide)の右横にある〇印で行います\n    + 〇が灰色になっていれば実行中<status:busy>,白色になれば実行完了(または実行前)の状態<status:idle>となります\n      + 〇をマウスオーバーするとstatusのほかに実行時間などの情報が表示されます\n---",
      "metadata": {}
    },
    {
      "cell_type": "markdown",
      "source": "+ ではためしに↓のセルをアクティブにして SHIFT + ENTER を押してみて下さい！",
      "metadata": {}
    },
    {
      "cell_type": "code",
      "source": "#print\nprint(\"出力結果はこんな感じになるよ\")",
      "metadata": {
        "trusted": true
      },
      "execution_count": 1,
      "outputs": [
        {
          "name": "stdout",
          "text": "出力結果はこんな感じになるよ\n",
          "output_type": "stream"
        }
      ]
    },
    {
      "cell_type": "markdown",
      "source": "---\n+ うまく文字列が出力されたら順番に以下のセルを実行していってください！",
      "metadata": {}
    },
    {
      "cell_type": "code",
      "source": "#数値の計算\n12 + 5",
      "metadata": {
        "trusted": true
      },
      "execution_count": 2,
      "outputs": [
        {
          "execution_count": 2,
          "output_type": "execute_result",
          "data": {
            "text/plain": "17"
          },
          "metadata": {}
        }
      ]
    },
    {
      "cell_type": "code",
      "source": "#変数へ数値を代入\nx = 3\ny = 2\nx * y",
      "metadata": {
        "trusted": true
      },
      "execution_count": 3,
      "outputs": [
        {
          "execution_count": 3,
          "output_type": "execute_result",
          "data": {
            "text/plain": "6"
          },
          "metadata": {}
        }
      ]
    },
    {
      "cell_type": "code",
      "source": "#変数へ文字列を代入\na = \"菅田\"\nb = \"将暉\"\na + b",
      "metadata": {
        "trusted": true
      },
      "execution_count": 4,
      "outputs": [
        {
          "execution_count": 4,
          "output_type": "execute_result",
          "data": {
            "text/plain": "'菅田将暉'"
          },
          "metadata": {}
        }
      ]
    },
    {
      "cell_type": "markdown",
      "source": "+ とりあえずセルに書かれたコードの実行の仕方は把握されたかと思います\n+ では進みましょう(pythonとは？はいまのところは知らなくてもよいです)",
      "metadata": {}
    },
    {
      "cell_type": "markdown",
      "source": "---\n## **雑然データから整然データへの変換**",
      "metadata": {
        "tags": []
      }
    },
    {
      "cell_type": "markdown",
      "source": "このノートブックと同じ場所に格納されているデータ**shotput.csv**および**tydy_shotput.csv**はスポーツテストで実施した砲丸投げの計測結果のデータと定義して進めて行きます。\n+ 各員5回の投擲を実施しその飛距離を計測\n+ 各員の名前はアルファベット一文字で表されている",
      "metadata": {}
    },
    {
      "cell_type": "markdown",
      "source": "### 必要なライブラリをインポートする\n+ pandas : データフレームをハンドリングするライブラリ\n+ 環境によってはこの処理に40～50秒程度かかるかもしれません",
      "metadata": {}
    },
    {
      "cell_type": "code",
      "source": "import pandas as pd\nimport numpy as np\nfrom sklearn.metrics import mean_squared_error\nimport matplotlib.pyplot as plt",
      "metadata": {
        "trusted": true
      },
      "execution_count": 6,
      "outputs": []
    },
    {
      "cell_type": "markdown",
      "source": "### CSVファイル shotput.csv (雑然データ)を読み込む\n+ 政府の統計データや各種の配布データは人間の理解しやすさを重視し以下に出力されるような表データとして配布されることが多いです\n+ ただしこれはコンピュータでのデータ処理にはやや向いていません",
      "metadata": {}
    },
    {
      "cell_type": "code",
      "source": "df = pd.read_csv(\"shotput.csv\")\ndf",
      "metadata": {
        "trusted": true
      },
      "execution_count": 7,
      "outputs": [
        {
          "execution_count": 7,
          "output_type": "execute_result",
          "data": {
            "text/plain": "   名前 性別    1投目    2投目   3投目    4投目   5投目\n0   A  F   4.80   7.40  9.70   7.90  7.30\n1   B  M   6.45   4.02  5.10   4.90  2.44\n2   C  M  11.50   3.60  6.30   7.54  4.67\n3   D  F   6.40   8.40  5.00   2.80  8.80\n4   E  F   7.45   6.00  2.70   4.80  4.80\n5   F  M   5.08   4.83  2.96   4.74  5.16\n6   G  F   2.93   8.70  4.79   7.28  4.10\n7   J  M   5.27   4.09  4.35   3.54  3.66\n8   M  F   4.23  11.89  3.51  11.18  2.21\n9   O  M   8.10   2.35  5.03   4.75  5.94\n10  P  M   6.35   5.40  3.22   2.39  9.67\n11  S  F   4.04   3.64  5.42   5.33  3.88",
            "text/html": "<div>\n<style scoped>\n    .dataframe tbody tr th:only-of-type {\n        vertical-align: middle;\n    }\n\n    .dataframe tbody tr th {\n        vertical-align: top;\n    }\n\n    .dataframe thead th {\n        text-align: right;\n    }\n</style>\n<table border=\"1\" class=\"dataframe\">\n  <thead>\n    <tr style=\"text-align: right;\">\n      <th></th>\n      <th>名前</th>\n      <th>性別</th>\n      <th>1投目</th>\n      <th>2投目</th>\n      <th>3投目</th>\n      <th>4投目</th>\n      <th>5投目</th>\n    </tr>\n  </thead>\n  <tbody>\n    <tr>\n      <th>0</th>\n      <td>A</td>\n      <td>F</td>\n      <td>4.80</td>\n      <td>7.40</td>\n      <td>9.70</td>\n      <td>7.90</td>\n      <td>7.30</td>\n    </tr>\n    <tr>\n      <th>1</th>\n      <td>B</td>\n      <td>M</td>\n      <td>6.45</td>\n      <td>4.02</td>\n      <td>5.10</td>\n      <td>4.90</td>\n      <td>2.44</td>\n    </tr>\n    <tr>\n      <th>2</th>\n      <td>C</td>\n      <td>M</td>\n      <td>11.50</td>\n      <td>3.60</td>\n      <td>6.30</td>\n      <td>7.54</td>\n      <td>4.67</td>\n    </tr>\n    <tr>\n      <th>3</th>\n      <td>D</td>\n      <td>F</td>\n      <td>6.40</td>\n      <td>8.40</td>\n      <td>5.00</td>\n      <td>2.80</td>\n      <td>8.80</td>\n    </tr>\n    <tr>\n      <th>4</th>\n      <td>E</td>\n      <td>F</td>\n      <td>7.45</td>\n      <td>6.00</td>\n      <td>2.70</td>\n      <td>4.80</td>\n      <td>4.80</td>\n    </tr>\n    <tr>\n      <th>5</th>\n      <td>F</td>\n      <td>M</td>\n      <td>5.08</td>\n      <td>4.83</td>\n      <td>2.96</td>\n      <td>4.74</td>\n      <td>5.16</td>\n    </tr>\n    <tr>\n      <th>6</th>\n      <td>G</td>\n      <td>F</td>\n      <td>2.93</td>\n      <td>8.70</td>\n      <td>4.79</td>\n      <td>7.28</td>\n      <td>4.10</td>\n    </tr>\n    <tr>\n      <th>7</th>\n      <td>J</td>\n      <td>M</td>\n      <td>5.27</td>\n      <td>4.09</td>\n      <td>4.35</td>\n      <td>3.54</td>\n      <td>3.66</td>\n    </tr>\n    <tr>\n      <th>8</th>\n      <td>M</td>\n      <td>F</td>\n      <td>4.23</td>\n      <td>11.89</td>\n      <td>3.51</td>\n      <td>11.18</td>\n      <td>2.21</td>\n    </tr>\n    <tr>\n      <th>9</th>\n      <td>O</td>\n      <td>M</td>\n      <td>8.10</td>\n      <td>2.35</td>\n      <td>5.03</td>\n      <td>4.75</td>\n      <td>5.94</td>\n    </tr>\n    <tr>\n      <th>10</th>\n      <td>P</td>\n      <td>M</td>\n      <td>6.35</td>\n      <td>5.40</td>\n      <td>3.22</td>\n      <td>2.39</td>\n      <td>9.67</td>\n    </tr>\n    <tr>\n      <th>11</th>\n      <td>S</td>\n      <td>F</td>\n      <td>4.04</td>\n      <td>3.64</td>\n      <td>5.42</td>\n      <td>5.33</td>\n      <td>3.88</td>\n    </tr>\n  </tbody>\n</table>\n</div>"
          },
          "metadata": {}
        }
      ]
    },
    {
      "cell_type": "markdown",
      "source": "---\n## 整然データを読み込む",
      "metadata": {}
    },
    {
      "cell_type": "markdown",
      "source": "+ 先ほど読み込んだ雑然データ shotput.csv を整然データに変換したものである **tydy_shotput.csv** を読み込んでみましょう",
      "metadata": {}
    },
    {
      "cell_type": "code",
      "source": "dft = pd.read_csv(\"tidy_shotput.csv\")\ndft",
      "metadata": {
        "trusted": true
      },
      "execution_count": 8,
      "outputs": [
        {
          "execution_count": 8,
          "output_type": "execute_result",
          "data": {
            "text/plain": "   名前 性別  投目     距離\n0   A  F   1   4.80\n1   B  M   1   6.45\n2   C  M   1  11.50\n3   D  F   1   6.40\n4   E  F   1   7.45\n5   F  M   1   5.08\n6   G  F   1   2.93\n7   J  M   1   5.27\n8   M  F   1   4.23\n9   O  M   1   8.10\n10  P  M   1   6.35\n11  S  F   1   4.04\n12  A  F   2   7.40\n13  B  M   2   4.02\n14  C  M   2   3.60\n15  D  F   2   8.40\n16  E  F   2   6.00\n17  F  M   2   4.83\n18  G  F   2   8.70\n19  J  M   2   4.09\n20  M  F   2  11.89\n21  O  M   2   2.35\n22  P  M   2   5.40\n23  S  F   2   3.64\n24  A  F   3   9.70\n25  B  M   3   5.10\n26  C  M   3   6.30\n27  D  F   3   5.00\n28  E  F   3   2.70\n29  F  M   3   2.96\n30  G  F   3   4.79\n31  J  M   3   4.35\n32  M  F   3   3.51\n33  O  M   3   5.03\n34  P  M   3   3.22\n35  S  F   3   5.42\n36  A  F   4   7.90\n37  B  M   4   4.90\n38  C  M   4   7.54\n39  D  F   4   2.80\n40  E  F   4   4.80\n41  F  M   4   4.74\n42  G  F   4   7.28\n43  J  M   4   3.54\n44  M  F   4  11.18\n45  O  M   4   4.75\n46  P  M   4   2.39\n47  S  F   4   5.33\n48  A  F   5   7.30\n49  B  M   5   2.44\n50  C  M   5   4.67\n51  D  F   5   8.80\n52  E  F   5   4.80\n53  F  M   5   5.16\n54  G  F   5   4.10\n55  J  M   5   3.66\n56  M  F   5   2.21\n57  O  M   5   5.94\n58  P  M   5   9.67\n59  S  F   5   3.88",
            "text/html": "<div>\n<style scoped>\n    .dataframe tbody tr th:only-of-type {\n        vertical-align: middle;\n    }\n\n    .dataframe tbody tr th {\n        vertical-align: top;\n    }\n\n    .dataframe thead th {\n        text-align: right;\n    }\n</style>\n<table border=\"1\" class=\"dataframe\">\n  <thead>\n    <tr style=\"text-align: right;\">\n      <th></th>\n      <th>名前</th>\n      <th>性別</th>\n      <th>投目</th>\n      <th>距離</th>\n    </tr>\n  </thead>\n  <tbody>\n    <tr>\n      <th>0</th>\n      <td>A</td>\n      <td>F</td>\n      <td>1</td>\n      <td>4.80</td>\n    </tr>\n    <tr>\n      <th>1</th>\n      <td>B</td>\n      <td>M</td>\n      <td>1</td>\n      <td>6.45</td>\n    </tr>\n    <tr>\n      <th>2</th>\n      <td>C</td>\n      <td>M</td>\n      <td>1</td>\n      <td>11.50</td>\n    </tr>\n    <tr>\n      <th>3</th>\n      <td>D</td>\n      <td>F</td>\n      <td>1</td>\n      <td>6.40</td>\n    </tr>\n    <tr>\n      <th>4</th>\n      <td>E</td>\n      <td>F</td>\n      <td>1</td>\n      <td>7.45</td>\n    </tr>\n    <tr>\n      <th>5</th>\n      <td>F</td>\n      <td>M</td>\n      <td>1</td>\n      <td>5.08</td>\n    </tr>\n    <tr>\n      <th>6</th>\n      <td>G</td>\n      <td>F</td>\n      <td>1</td>\n      <td>2.93</td>\n    </tr>\n    <tr>\n      <th>7</th>\n      <td>J</td>\n      <td>M</td>\n      <td>1</td>\n      <td>5.27</td>\n    </tr>\n    <tr>\n      <th>8</th>\n      <td>M</td>\n      <td>F</td>\n      <td>1</td>\n      <td>4.23</td>\n    </tr>\n    <tr>\n      <th>9</th>\n      <td>O</td>\n      <td>M</td>\n      <td>1</td>\n      <td>8.10</td>\n    </tr>\n    <tr>\n      <th>10</th>\n      <td>P</td>\n      <td>M</td>\n      <td>1</td>\n      <td>6.35</td>\n    </tr>\n    <tr>\n      <th>11</th>\n      <td>S</td>\n      <td>F</td>\n      <td>1</td>\n      <td>4.04</td>\n    </tr>\n    <tr>\n      <th>12</th>\n      <td>A</td>\n      <td>F</td>\n      <td>2</td>\n      <td>7.40</td>\n    </tr>\n    <tr>\n      <th>13</th>\n      <td>B</td>\n      <td>M</td>\n      <td>2</td>\n      <td>4.02</td>\n    </tr>\n    <tr>\n      <th>14</th>\n      <td>C</td>\n      <td>M</td>\n      <td>2</td>\n      <td>3.60</td>\n    </tr>\n    <tr>\n      <th>15</th>\n      <td>D</td>\n      <td>F</td>\n      <td>2</td>\n      <td>8.40</td>\n    </tr>\n    <tr>\n      <th>16</th>\n      <td>E</td>\n      <td>F</td>\n      <td>2</td>\n      <td>6.00</td>\n    </tr>\n    <tr>\n      <th>17</th>\n      <td>F</td>\n      <td>M</td>\n      <td>2</td>\n      <td>4.83</td>\n    </tr>\n    <tr>\n      <th>18</th>\n      <td>G</td>\n      <td>F</td>\n      <td>2</td>\n      <td>8.70</td>\n    </tr>\n    <tr>\n      <th>19</th>\n      <td>J</td>\n      <td>M</td>\n      <td>2</td>\n      <td>4.09</td>\n    </tr>\n    <tr>\n      <th>20</th>\n      <td>M</td>\n      <td>F</td>\n      <td>2</td>\n      <td>11.89</td>\n    </tr>\n    <tr>\n      <th>21</th>\n      <td>O</td>\n      <td>M</td>\n      <td>2</td>\n      <td>2.35</td>\n    </tr>\n    <tr>\n      <th>22</th>\n      <td>P</td>\n      <td>M</td>\n      <td>2</td>\n      <td>5.40</td>\n    </tr>\n    <tr>\n      <th>23</th>\n      <td>S</td>\n      <td>F</td>\n      <td>2</td>\n      <td>3.64</td>\n    </tr>\n    <tr>\n      <th>24</th>\n      <td>A</td>\n      <td>F</td>\n      <td>3</td>\n      <td>9.70</td>\n    </tr>\n    <tr>\n      <th>25</th>\n      <td>B</td>\n      <td>M</td>\n      <td>3</td>\n      <td>5.10</td>\n    </tr>\n    <tr>\n      <th>26</th>\n      <td>C</td>\n      <td>M</td>\n      <td>3</td>\n      <td>6.30</td>\n    </tr>\n    <tr>\n      <th>27</th>\n      <td>D</td>\n      <td>F</td>\n      <td>3</td>\n      <td>5.00</td>\n    </tr>\n    <tr>\n      <th>28</th>\n      <td>E</td>\n      <td>F</td>\n      <td>3</td>\n      <td>2.70</td>\n    </tr>\n    <tr>\n      <th>29</th>\n      <td>F</td>\n      <td>M</td>\n      <td>3</td>\n      <td>2.96</td>\n    </tr>\n    <tr>\n      <th>30</th>\n      <td>G</td>\n      <td>F</td>\n      <td>3</td>\n      <td>4.79</td>\n    </tr>\n    <tr>\n      <th>31</th>\n      <td>J</td>\n      <td>M</td>\n      <td>3</td>\n      <td>4.35</td>\n    </tr>\n    <tr>\n      <th>32</th>\n      <td>M</td>\n      <td>F</td>\n      <td>3</td>\n      <td>3.51</td>\n    </tr>\n    <tr>\n      <th>33</th>\n      <td>O</td>\n      <td>M</td>\n      <td>3</td>\n      <td>5.03</td>\n    </tr>\n    <tr>\n      <th>34</th>\n      <td>P</td>\n      <td>M</td>\n      <td>3</td>\n      <td>3.22</td>\n    </tr>\n    <tr>\n      <th>35</th>\n      <td>S</td>\n      <td>F</td>\n      <td>3</td>\n      <td>5.42</td>\n    </tr>\n    <tr>\n      <th>36</th>\n      <td>A</td>\n      <td>F</td>\n      <td>4</td>\n      <td>7.90</td>\n    </tr>\n    <tr>\n      <th>37</th>\n      <td>B</td>\n      <td>M</td>\n      <td>4</td>\n      <td>4.90</td>\n    </tr>\n    <tr>\n      <th>38</th>\n      <td>C</td>\n      <td>M</td>\n      <td>4</td>\n      <td>7.54</td>\n    </tr>\n    <tr>\n      <th>39</th>\n      <td>D</td>\n      <td>F</td>\n      <td>4</td>\n      <td>2.80</td>\n    </tr>\n    <tr>\n      <th>40</th>\n      <td>E</td>\n      <td>F</td>\n      <td>4</td>\n      <td>4.80</td>\n    </tr>\n    <tr>\n      <th>41</th>\n      <td>F</td>\n      <td>M</td>\n      <td>4</td>\n      <td>4.74</td>\n    </tr>\n    <tr>\n      <th>42</th>\n      <td>G</td>\n      <td>F</td>\n      <td>4</td>\n      <td>7.28</td>\n    </tr>\n    <tr>\n      <th>43</th>\n      <td>J</td>\n      <td>M</td>\n      <td>4</td>\n      <td>3.54</td>\n    </tr>\n    <tr>\n      <th>44</th>\n      <td>M</td>\n      <td>F</td>\n      <td>4</td>\n      <td>11.18</td>\n    </tr>\n    <tr>\n      <th>45</th>\n      <td>O</td>\n      <td>M</td>\n      <td>4</td>\n      <td>4.75</td>\n    </tr>\n    <tr>\n      <th>46</th>\n      <td>P</td>\n      <td>M</td>\n      <td>4</td>\n      <td>2.39</td>\n    </tr>\n    <tr>\n      <th>47</th>\n      <td>S</td>\n      <td>F</td>\n      <td>4</td>\n      <td>5.33</td>\n    </tr>\n    <tr>\n      <th>48</th>\n      <td>A</td>\n      <td>F</td>\n      <td>5</td>\n      <td>7.30</td>\n    </tr>\n    <tr>\n      <th>49</th>\n      <td>B</td>\n      <td>M</td>\n      <td>5</td>\n      <td>2.44</td>\n    </tr>\n    <tr>\n      <th>50</th>\n      <td>C</td>\n      <td>M</td>\n      <td>5</td>\n      <td>4.67</td>\n    </tr>\n    <tr>\n      <th>51</th>\n      <td>D</td>\n      <td>F</td>\n      <td>5</td>\n      <td>8.80</td>\n    </tr>\n    <tr>\n      <th>52</th>\n      <td>E</td>\n      <td>F</td>\n      <td>5</td>\n      <td>4.80</td>\n    </tr>\n    <tr>\n      <th>53</th>\n      <td>F</td>\n      <td>M</td>\n      <td>5</td>\n      <td>5.16</td>\n    </tr>\n    <tr>\n      <th>54</th>\n      <td>G</td>\n      <td>F</td>\n      <td>5</td>\n      <td>4.10</td>\n    </tr>\n    <tr>\n      <th>55</th>\n      <td>J</td>\n      <td>M</td>\n      <td>5</td>\n      <td>3.66</td>\n    </tr>\n    <tr>\n      <th>56</th>\n      <td>M</td>\n      <td>F</td>\n      <td>5</td>\n      <td>2.21</td>\n    </tr>\n    <tr>\n      <th>57</th>\n      <td>O</td>\n      <td>M</td>\n      <td>5</td>\n      <td>5.94</td>\n    </tr>\n    <tr>\n      <th>58</th>\n      <td>P</td>\n      <td>M</td>\n      <td>5</td>\n      <td>9.67</td>\n    </tr>\n    <tr>\n      <th>59</th>\n      <td>S</td>\n      <td>F</td>\n      <td>5</td>\n      <td>3.88</td>\n    </tr>\n  </tbody>\n</table>\n</div>"
          },
          "metadata": {}
        }
      ]
    },
    {
      "cell_type": "markdown",
      "source": "+ このような整然データにしておけば各種の集計(データの抽出)がたやすくなります",
      "metadata": {}
    },
    {
      "cell_type": "markdown",
      "source": "---\n### 整然データを用いてデータの抽出処理(エクセルのフィルタのよーなもの)を実施 \n+ データ解析で用いられるプログラミング言語(Python,Rなど)で用意されているデータ処理や作図の関数はこのような整然データを前提としています。\n+ まずは各員の第一回目の計測結果のみを抽出してみましょう。",
      "metadata": {}
    },
    {
      "cell_type": "code",
      "source": "dft1 = dft[dft[\"投目\"]==1]\ndft1",
      "metadata": {
        "trusted": true
      },
      "execution_count": 9,
      "outputs": [
        {
          "execution_count": 9,
          "output_type": "execute_result",
          "data": {
            "text/plain": "   名前 性別  投目     距離\n0   A  F   1   4.80\n1   B  M   1   6.45\n2   C  M   1  11.50\n3   D  F   1   6.40\n4   E  F   1   7.45\n5   F  M   1   5.08\n6   G  F   1   2.93\n7   J  M   1   5.27\n8   M  F   1   4.23\n9   O  M   1   8.10\n10  P  M   1   6.35\n11  S  F   1   4.04",
            "text/html": "<div>\n<style scoped>\n    .dataframe tbody tr th:only-of-type {\n        vertical-align: middle;\n    }\n\n    .dataframe tbody tr th {\n        vertical-align: top;\n    }\n\n    .dataframe thead th {\n        text-align: right;\n    }\n</style>\n<table border=\"1\" class=\"dataframe\">\n  <thead>\n    <tr style=\"text-align: right;\">\n      <th></th>\n      <th>名前</th>\n      <th>性別</th>\n      <th>投目</th>\n      <th>距離</th>\n    </tr>\n  </thead>\n  <tbody>\n    <tr>\n      <th>0</th>\n      <td>A</td>\n      <td>F</td>\n      <td>1</td>\n      <td>4.80</td>\n    </tr>\n    <tr>\n      <th>1</th>\n      <td>B</td>\n      <td>M</td>\n      <td>1</td>\n      <td>6.45</td>\n    </tr>\n    <tr>\n      <th>2</th>\n      <td>C</td>\n      <td>M</td>\n      <td>1</td>\n      <td>11.50</td>\n    </tr>\n    <tr>\n      <th>3</th>\n      <td>D</td>\n      <td>F</td>\n      <td>1</td>\n      <td>6.40</td>\n    </tr>\n    <tr>\n      <th>4</th>\n      <td>E</td>\n      <td>F</td>\n      <td>1</td>\n      <td>7.45</td>\n    </tr>\n    <tr>\n      <th>5</th>\n      <td>F</td>\n      <td>M</td>\n      <td>1</td>\n      <td>5.08</td>\n    </tr>\n    <tr>\n      <th>6</th>\n      <td>G</td>\n      <td>F</td>\n      <td>1</td>\n      <td>2.93</td>\n    </tr>\n    <tr>\n      <th>7</th>\n      <td>J</td>\n      <td>M</td>\n      <td>1</td>\n      <td>5.27</td>\n    </tr>\n    <tr>\n      <th>8</th>\n      <td>M</td>\n      <td>F</td>\n      <td>1</td>\n      <td>4.23</td>\n    </tr>\n    <tr>\n      <th>9</th>\n      <td>O</td>\n      <td>M</td>\n      <td>1</td>\n      <td>8.10</td>\n    </tr>\n    <tr>\n      <th>10</th>\n      <td>P</td>\n      <td>M</td>\n      <td>1</td>\n      <td>6.35</td>\n    </tr>\n    <tr>\n      <th>11</th>\n      <td>S</td>\n      <td>F</td>\n      <td>1</td>\n      <td>4.04</td>\n    </tr>\n  </tbody>\n</table>\n</div>"
          },
          "metadata": {}
        }
      ]
    },
    {
      "cell_type": "markdown",
      "source": "+ 次に第1投目における男女の投擲の記述統計量を求め、各群における距離のばらつきを箱ひげ図で表してみましょう。",
      "metadata": {}
    },
    {
      "cell_type": "code",
      "source": "#import matplotlib.pyplot as plt\n\nfdata = dft1[dft1[\"性別\"]==\"F\"]['距離']\nmdata = dft1[dft1[\"性別\"]==\"M\"]['距離']\n\nfig = plt.figure(figsize=(5, 5))\nax1 = fig.add_subplot(111)\nax1.boxplot((fdata,mdata),showmeans=True, whis=[0,100])# whis=[0,100] と引数を指定すると最大値と最小値がひげの先端となる\nax1.set_xticklabels(['Female', 'Male'])\nax1.set_ylabel('Distance_m')\nplt.show()",
      "metadata": {
        "id": "CmIsDO4kF97f",
        "trusted": true
      },
      "execution_count": 20,
      "outputs": [
        {
          "output_type": "display_data",
          "data": {
            "text/plain": "<Figure size 500x500 with 1 Axes>",
            "image/png": "[encoded data removed]"
          },
          "metadata": {}
        }
      ]
    },
    {
      "cell_type": "markdown",
      "source": "---\n### 元の視認しやすいデータに戻すこともできます\n+ なので最初から **整然データを整備** しておけばよいのです\n+ たとえば**クロス集計**処理を行うことで先ほど配布した shotput.csv とおなじ状態にデータを成形することができます",
      "metadata": {}
    },
    {
      "cell_type": "code",
      "source": "dft.pivot_table(values = \"距離\", index = [\"名前\",\"性別\"], columns = \"投目\")",
      "metadata": {
        "trusted": true
      },
      "execution_count": 11,
      "outputs": [
        {
          "execution_count": 11,
          "output_type": "execute_result",
          "data": {
            "text/plain": "投目         1      2     3      4     5\n名前 性別                                 \nA  F    4.80   7.40  9.70   7.90  7.30\nB  M    6.45   4.02  5.10   4.90  2.44\nC  M   11.50   3.60  6.30   7.54  4.67\nD  F    6.40   8.40  5.00   2.80  8.80\nE  F    7.45   6.00  2.70   4.80  4.80\nF  M    5.08   4.83  2.96   4.74  5.16\nG  F    2.93   8.70  4.79   7.28  4.10\nJ  M    5.27   4.09  4.35   3.54  3.66\nM  F    4.23  11.89  3.51  11.18  2.21\nO  M    8.10   2.35  5.03   4.75  5.94\nP  M    6.35   5.40  3.22   2.39  9.67\nS  F    4.04   3.64  5.42   5.33  3.88",
            "text/html": "<div>\n<style scoped>\n    .dataframe tbody tr th:only-of-type {\n        vertical-align: middle;\n    }\n\n    .dataframe tbody tr th {\n        vertical-align: top;\n    }\n\n    .dataframe thead th {\n        text-align: right;\n    }\n</style>\n<table border=\"1\" class=\"dataframe\">\n  <thead>\n    <tr style=\"text-align: right;\">\n      <th></th>\n      <th>投目</th>\n      <th>1</th>\n      <th>2</th>\n      <th>3</th>\n      <th>4</th>\n      <th>5</th>\n    </tr>\n    <tr>\n      <th>名前</th>\n      <th>性別</th>\n      <th></th>\n      <th></th>\n      <th></th>\n      <th></th>\n      <th></th>\n    </tr>\n  </thead>\n  <tbody>\n    <tr>\n      <th>A</th>\n      <th>F</th>\n      <td>4.80</td>\n      <td>7.40</td>\n      <td>9.70</td>\n      <td>7.90</td>\n      <td>7.30</td>\n    </tr>\n    <tr>\n      <th>B</th>\n      <th>M</th>\n      <td>6.45</td>\n      <td>4.02</td>\n      <td>5.10</td>\n      <td>4.90</td>\n      <td>2.44</td>\n    </tr>\n    <tr>\n      <th>C</th>\n      <th>M</th>\n      <td>11.50</td>\n      <td>3.60</td>\n      <td>6.30</td>\n      <td>7.54</td>\n      <td>4.67</td>\n    </tr>\n    <tr>\n      <th>D</th>\n      <th>F</th>\n      <td>6.40</td>\n      <td>8.40</td>\n      <td>5.00</td>\n      <td>2.80</td>\n      <td>8.80</td>\n    </tr>\n    <tr>\n      <th>E</th>\n      <th>F</th>\n      <td>7.45</td>\n      <td>6.00</td>\n      <td>2.70</td>\n      <td>4.80</td>\n      <td>4.80</td>\n    </tr>\n    <tr>\n      <th>F</th>\n      <th>M</th>\n      <td>5.08</td>\n      <td>4.83</td>\n      <td>2.96</td>\n      <td>4.74</td>\n      <td>5.16</td>\n    </tr>\n    <tr>\n      <th>G</th>\n      <th>F</th>\n      <td>2.93</td>\n      <td>8.70</td>\n      <td>4.79</td>\n      <td>7.28</td>\n      <td>4.10</td>\n    </tr>\n    <tr>\n      <th>J</th>\n      <th>M</th>\n      <td>5.27</td>\n      <td>4.09</td>\n      <td>4.35</td>\n      <td>3.54</td>\n      <td>3.66</td>\n    </tr>\n    <tr>\n      <th>M</th>\n      <th>F</th>\n      <td>4.23</td>\n      <td>11.89</td>\n      <td>3.51</td>\n      <td>11.18</td>\n      <td>2.21</td>\n    </tr>\n    <tr>\n      <th>O</th>\n      <th>M</th>\n      <td>8.10</td>\n      <td>2.35</td>\n      <td>5.03</td>\n      <td>4.75</td>\n      <td>5.94</td>\n    </tr>\n    <tr>\n      <th>P</th>\n      <th>M</th>\n      <td>6.35</td>\n      <td>5.40</td>\n      <td>3.22</td>\n      <td>2.39</td>\n      <td>9.67</td>\n    </tr>\n    <tr>\n      <th>S</th>\n      <th>F</th>\n      <td>4.04</td>\n      <td>3.64</td>\n      <td>5.42</td>\n      <td>5.33</td>\n      <td>3.88</td>\n    </tr>\n  </tbody>\n</table>\n</div>"
          },
          "metadata": {}
        }
      ]
    },
    {
      "cell_type": "markdown",
      "source": "---\n### 雑然データを整然データに変換する\n+ ある程度整理されたデータによっては雑然データを整然データに変換することができます。\n+ 以下より先ほど提示した雑然データ **shotput.csv** をコンピュータ処理に向いた[整然データ](https://id.fnshr.info/2017/01/09/tidy-data-intro/)へ変換する処理を行います。\n+ 整然データへの変換には **pd.melt()** 関数を用いて処理を行います。オプションは以下のように設定します。\n+ **やることその1:** 変更しない列を決める\n  + **id_vars：** 変更しない列名「**名前**」「**性別**」を指定する \n---\n+ **やることその2:** 同質のデータが異なる列「1」「2」「3」「4」「5」の値として格納されているため，それらを一つの列「距離」にまとめる\n  + **value_name：** やること1の結果が格納される列名「**距離**」を指定する    \n---\n+ **やることその3:** 元データの列名「1投目」「2投目」「3投目」「4投目」「5投目」自体を値とする列「投目」を作成する\n  + **var_name：** やること2の結果が格納される列名「**投目**」を指定する",
      "metadata": {}
    },
    {
      "cell_type": "code",
      "source": "dfm = pd.melt(df,id_vars=[\"名前\",\"性別\"], value_name=\"距離\", var_name=\"投目\")\ndfm.to_csv(\"shotput_to_tidy.csv\",index = True)\ndfm",
      "metadata": {
        "trusted": true
      },
      "execution_count": 21,
      "outputs": [
        {
          "execution_count": 21,
          "output_type": "execute_result",
          "data": {
            "text/plain": "   名前 性別   投目     距離\n0   A  F  1投目   4.80\n1   B  M  1投目   6.45\n2   C  M  1投目  11.50\n3   D  F  1投目   6.40\n4   E  F  1投目   7.45\n5   F  M  1投目   5.08\n6   G  F  1投目   2.93\n7   J  M  1投目   5.27\n8   M  F  1投目   4.23\n9   O  M  1投目   8.10\n10  P  M  1投目   6.35\n11  S  F  1投目   4.04\n12  A  F  2投目   7.40\n13  B  M  2投目   4.02\n14  C  M  2投目   3.60\n15  D  F  2投目   8.40\n16  E  F  2投目   6.00\n17  F  M  2投目   4.83\n18  G  F  2投目   8.70\n19  J  M  2投目   4.09\n20  M  F  2投目  11.89\n21  O  M  2投目   2.35\n22  P  M  2投目   5.40\n23  S  F  2投目   3.64\n24  A  F  3投目   9.70\n25  B  M  3投目   5.10\n26  C  M  3投目   6.30\n27  D  F  3投目   5.00\n28  E  F  3投目   2.70\n29  F  M  3投目   2.96\n30  G  F  3投目   4.79\n31  J  M  3投目   4.35\n32  M  F  3投目   3.51\n33  O  M  3投目   5.03\n34  P  M  3投目   3.22\n35  S  F  3投目   5.42\n36  A  F  4投目   7.90\n37  B  M  4投目   4.90\n38  C  M  4投目   7.54\n39  D  F  4投目   2.80\n40  E  F  4投目   4.80\n41  F  M  4投目   4.74\n42  G  F  4投目   7.28\n43  J  M  4投目   3.54\n44  M  F  4投目  11.18\n45  O  M  4投目   4.75\n46  P  M  4投目   2.39\n47  S  F  4投目   5.33\n48  A  F  5投目   7.30\n49  B  M  5投目   2.44\n50  C  M  5投目   4.67\n51  D  F  5投目   8.80\n52  E  F  5投目   4.80\n53  F  M  5投目   5.16\n54  G  F  5投目   4.10\n55  J  M  5投目   3.66\n56  M  F  5投目   2.21\n57  O  M  5投目   5.94\n58  P  M  5投目   9.67\n59  S  F  5投目   3.88",
            "text/html": "<div>\n<style scoped>\n    .dataframe tbody tr th:only-of-type {\n        vertical-align: middle;\n    }\n\n    .dataframe tbody tr th {\n        vertical-align: top;\n    }\n\n    .dataframe thead th {\n        text-align: right;\n    }\n</style>\n<table border=\"1\" class=\"dataframe\">\n  <thead>\n    <tr style=\"text-align: right;\">\n      <th></th>\n      <th>名前</th>\n      <th>性別</th>\n      <th>投目</th>\n      <th>距離</th>\n    </tr>\n  </thead>\n  <tbody>\n    <tr>\n      <th>0</th>\n      <td>A</td>\n      <td>F</td>\n      <td>1投目</td>\n      <td>4.80</td>\n    </tr>\n    <tr>\n      <th>1</th>\n      <td>B</td>\n      <td>M</td>\n      <td>1投目</td>\n      <td>6.45</td>\n    </tr>\n    <tr>\n      <th>2</th>\n      <td>C</td>\n      <td>M</td>\n      <td>1投目</td>\n      <td>11.50</td>\n    </tr>\n    <tr>\n      <th>3</th>\n      <td>D</td>\n      <td>F</td>\n      <td>1投目</td>\n      <td>6.40</td>\n    </tr>\n    <tr>\n      <th>4</th>\n      <td>E</td>\n      <td>F</td>\n      <td>1投目</td>\n      <td>7.45</td>\n    </tr>\n    <tr>\n      <th>5</th>\n      <td>F</td>\n      <td>M</td>\n      <td>1投目</td>\n      <td>5.08</td>\n    </tr>\n    <tr>\n      <th>6</th>\n      <td>G</td>\n      <td>F</td>\n      <td>1投目</td>\n      <td>2.93</td>\n    </tr>\n    <tr>\n      <th>7</th>\n      <td>J</td>\n      <td>M</td>\n      <td>1投目</td>\n      <td>5.27</td>\n    </tr>\n    <tr>\n      <th>8</th>\n      <td>M</td>\n      <td>F</td>\n      <td>1投目</td>\n      <td>4.23</td>\n    </tr>\n    <tr>\n      <th>9</th>\n      <td>O</td>\n      <td>M</td>\n      <td>1投目</td>\n      <td>8.10</td>\n    </tr>\n    <tr>\n      <th>10</th>\n      <td>P</td>\n      <td>M</td>\n      <td>1投目</td>\n      <td>6.35</td>\n    </tr>\n    <tr>\n      <th>11</th>\n      <td>S</td>\n      <td>F</td>\n      <td>1投目</td>\n      <td>4.04</td>\n    </tr>\n    <tr>\n      <th>12</th>\n      <td>A</td>\n      <td>F</td>\n      <td>2投目</td>\n      <td>7.40</td>\n    </tr>\n    <tr>\n      <th>13</th>\n      <td>B</td>\n      <td>M</td>\n      <td>2投目</td>\n      <td>4.02</td>\n    </tr>\n    <tr>\n      <th>14</th>\n      <td>C</td>\n      <td>M</td>\n      <td>2投目</td>\n      <td>3.60</td>\n    </tr>\n    <tr>\n      <th>15</th>\n      <td>D</td>\n      <td>F</td>\n      <td>2投目</td>\n      <td>8.40</td>\n    </tr>\n    <tr>\n      <th>16</th>\n      <td>E</td>\n      <td>F</td>\n      <td>2投目</td>\n      <td>6.00</td>\n    </tr>\n    <tr>\n      <th>17</th>\n      <td>F</td>\n      <td>M</td>\n      <td>2投目</td>\n      <td>4.83</td>\n    </tr>\n    <tr>\n      <th>18</th>\n      <td>G</td>\n      <td>F</td>\n      <td>2投目</td>\n      <td>8.70</td>\n    </tr>\n    <tr>\n      <th>19</th>\n      <td>J</td>\n      <td>M</td>\n      <td>2投目</td>\n      <td>4.09</td>\n    </tr>\n    <tr>\n      <th>20</th>\n      <td>M</td>\n      <td>F</td>\n      <td>2投目</td>\n      <td>11.89</td>\n    </tr>\n    <tr>\n      <th>21</th>\n      <td>O</td>\n      <td>M</td>\n      <td>2投目</td>\n      <td>2.35</td>\n    </tr>\n    <tr>\n      <th>22</th>\n      <td>P</td>\n      <td>M</td>\n      <td>2投目</td>\n      <td>5.40</td>\n    </tr>\n    <tr>\n      <th>23</th>\n      <td>S</td>\n      <td>F</td>\n      <td>2投目</td>\n      <td>3.64</td>\n    </tr>\n    <tr>\n      <th>24</th>\n      <td>A</td>\n      <td>F</td>\n      <td>3投目</td>\n      <td>9.70</td>\n    </tr>\n    <tr>\n      <th>25</th>\n      <td>B</td>\n      <td>M</td>\n      <td>3投目</td>\n      <td>5.10</td>\n    </tr>\n    <tr>\n      <th>26</th>\n      <td>C</td>\n      <td>M</td>\n      <td>3投目</td>\n      <td>6.30</td>\n    </tr>\n    <tr>\n      <th>27</th>\n      <td>D</td>\n      <td>F</td>\n      <td>3投目</td>\n      <td>5.00</td>\n    </tr>\n    <tr>\n      <th>28</th>\n      <td>E</td>\n      <td>F</td>\n      <td>3投目</td>\n      <td>2.70</td>\n    </tr>\n    <tr>\n      <th>29</th>\n      <td>F</td>\n      <td>M</td>\n      <td>3投目</td>\n      <td>2.96</td>\n    </tr>\n    <tr>\n      <th>30</th>\n      <td>G</td>\n      <td>F</td>\n      <td>3投目</td>\n      <td>4.79</td>\n    </tr>\n    <tr>\n      <th>31</th>\n      <td>J</td>\n      <td>M</td>\n      <td>3投目</td>\n      <td>4.35</td>\n    </tr>\n    <tr>\n      <th>32</th>\n      <td>M</td>\n      <td>F</td>\n      <td>3投目</td>\n      <td>3.51</td>\n    </tr>\n    <tr>\n      <th>33</th>\n      <td>O</td>\n      <td>M</td>\n      <td>3投目</td>\n      <td>5.03</td>\n    </tr>\n    <tr>\n      <th>34</th>\n      <td>P</td>\n      <td>M</td>\n      <td>3投目</td>\n      <td>3.22</td>\n    </tr>\n    <tr>\n      <th>35</th>\n      <td>S</td>\n      <td>F</td>\n      <td>3投目</td>\n      <td>5.42</td>\n    </tr>\n    <tr>\n      <th>36</th>\n      <td>A</td>\n      <td>F</td>\n      <td>4投目</td>\n      <td>7.90</td>\n    </tr>\n    <tr>\n      <th>37</th>\n      <td>B</td>\n      <td>M</td>\n      <td>4投目</td>\n      <td>4.90</td>\n    </tr>\n    <tr>\n      <th>38</th>\n      <td>C</td>\n      <td>M</td>\n      <td>4投目</td>\n      <td>7.54</td>\n    </tr>\n    <tr>\n      <th>39</th>\n      <td>D</td>\n      <td>F</td>\n      <td>4投目</td>\n      <td>2.80</td>\n    </tr>\n    <tr>\n      <th>40</th>\n      <td>E</td>\n      <td>F</td>\n      <td>4投目</td>\n      <td>4.80</td>\n    </tr>\n    <tr>\n      <th>41</th>\n      <td>F</td>\n      <td>M</td>\n      <td>4投目</td>\n      <td>4.74</td>\n    </tr>\n    <tr>\n      <th>42</th>\n      <td>G</td>\n      <td>F</td>\n      <td>4投目</td>\n      <td>7.28</td>\n    </tr>\n    <tr>\n      <th>43</th>\n      <td>J</td>\n      <td>M</td>\n      <td>4投目</td>\n      <td>3.54</td>\n    </tr>\n    <tr>\n      <th>44</th>\n      <td>M</td>\n      <td>F</td>\n      <td>4投目</td>\n      <td>11.18</td>\n    </tr>\n    <tr>\n      <th>45</th>\n      <td>O</td>\n      <td>M</td>\n      <td>4投目</td>\n      <td>4.75</td>\n    </tr>\n    <tr>\n      <th>46</th>\n      <td>P</td>\n      <td>M</td>\n      <td>4投目</td>\n      <td>2.39</td>\n    </tr>\n    <tr>\n      <th>47</th>\n      <td>S</td>\n      <td>F</td>\n      <td>4投目</td>\n      <td>5.33</td>\n    </tr>\n    <tr>\n      <th>48</th>\n      <td>A</td>\n      <td>F</td>\n      <td>5投目</td>\n      <td>7.30</td>\n    </tr>\n    <tr>\n      <th>49</th>\n      <td>B</td>\n      <td>M</td>\n      <td>5投目</td>\n      <td>2.44</td>\n    </tr>\n    <tr>\n      <th>50</th>\n      <td>C</td>\n      <td>M</td>\n      <td>5投目</td>\n      <td>4.67</td>\n    </tr>\n    <tr>\n      <th>51</th>\n      <td>D</td>\n      <td>F</td>\n      <td>5投目</td>\n      <td>8.80</td>\n    </tr>\n    <tr>\n      <th>52</th>\n      <td>E</td>\n      <td>F</td>\n      <td>5投目</td>\n      <td>4.80</td>\n    </tr>\n    <tr>\n      <th>53</th>\n      <td>F</td>\n      <td>M</td>\n      <td>5投目</td>\n      <td>5.16</td>\n    </tr>\n    <tr>\n      <th>54</th>\n      <td>G</td>\n      <td>F</td>\n      <td>5投目</td>\n      <td>4.10</td>\n    </tr>\n    <tr>\n      <th>55</th>\n      <td>J</td>\n      <td>M</td>\n      <td>5投目</td>\n      <td>3.66</td>\n    </tr>\n    <tr>\n      <th>56</th>\n      <td>M</td>\n      <td>F</td>\n      <td>5投目</td>\n      <td>2.21</td>\n    </tr>\n    <tr>\n      <th>57</th>\n      <td>O</td>\n      <td>M</td>\n      <td>5投目</td>\n      <td>5.94</td>\n    </tr>\n    <tr>\n      <th>58</th>\n      <td>P</td>\n      <td>M</td>\n      <td>5投目</td>\n      <td>9.67</td>\n    </tr>\n    <tr>\n      <th>59</th>\n      <td>S</td>\n      <td>F</td>\n      <td>5投目</td>\n      <td>3.88</td>\n    </tr>\n  </tbody>\n</table>\n</div>"
          },
          "metadata": {}
        }
      ]
    },
    {
      "cell_type": "markdown",
      "source": "+ 投目列の各レコードに含まれる文字列\"投目\"をデータから削除し整数として定義する",
      "metadata": {}
    },
    {
      "cell_type": "code",
      "source": "dfm[\"投目\"] = dfm[\"投目\"].apply(lambda x: int(x.replace(\"投目\",\"\")))\ndfm",
      "metadata": {
        "trusted": true
      },
      "execution_count": 22,
      "outputs": [
        {
          "execution_count": 22,
          "output_type": "execute_result",
          "data": {
            "text/plain": "   名前 性別  投目     距離\n0   A  F   1   4.80\n1   B  M   1   6.45\n2   C  M   1  11.50\n3   D  F   1   6.40\n4   E  F   1   7.45\n5   F  M   1   5.08\n6   G  F   1   2.93\n7   J  M   1   5.27\n8   M  F   1   4.23\n9   O  M   1   8.10\n10  P  M   1   6.35\n11  S  F   1   4.04\n12  A  F   2   7.40\n13  B  M   2   4.02\n14  C  M   2   3.60\n15  D  F   2   8.40\n16  E  F   2   6.00\n17  F  M   2   4.83\n18  G  F   2   8.70\n19  J  M   2   4.09\n20  M  F   2  11.89\n21  O  M   2   2.35\n22  P  M   2   5.40\n23  S  F   2   3.64\n24  A  F   3   9.70\n25  B  M   3   5.10\n26  C  M   3   6.30\n27  D  F   3   5.00\n28  E  F   3   2.70\n29  F  M   3   2.96\n30  G  F   3   4.79\n31  J  M   3   4.35\n32  M  F   3   3.51\n33  O  M   3   5.03\n34  P  M   3   3.22\n35  S  F   3   5.42\n36  A  F   4   7.90\n37  B  M   4   4.90\n38  C  M   4   7.54\n39  D  F   4   2.80\n40  E  F   4   4.80\n41  F  M   4   4.74\n42  G  F   4   7.28\n43  J  M   4   3.54\n44  M  F   4  11.18\n45  O  M   4   4.75\n46  P  M   4   2.39\n47  S  F   4   5.33\n48  A  F   5   7.30\n49  B  M   5   2.44\n50  C  M   5   4.67\n51  D  F   5   8.80\n52  E  F   5   4.80\n53  F  M   5   5.16\n54  G  F   5   4.10\n55  J  M   5   3.66\n56  M  F   5   2.21\n57  O  M   5   5.94\n58  P  M   5   9.67\n59  S  F   5   3.88",
            "text/html": "<div>\n<style scoped>\n    .dataframe tbody tr th:only-of-type {\n        vertical-align: middle;\n    }\n\n    .dataframe tbody tr th {\n        vertical-align: top;\n    }\n\n    .dataframe thead th {\n        text-align: right;\n    }\n</style>\n<table border=\"1\" class=\"dataframe\">\n  <thead>\n    <tr style=\"text-align: right;\">\n      <th></th>\n      <th>名前</th>\n      <th>性別</th>\n      <th>投目</th>\n      <th>距離</th>\n    </tr>\n  </thead>\n  <tbody>\n    <tr>\n      <th>0</th>\n      <td>A</td>\n      <td>F</td>\n      <td>1</td>\n      <td>4.80</td>\n    </tr>\n    <tr>\n      <th>1</th>\n      <td>B</td>\n      <td>M</td>\n      <td>1</td>\n      <td>6.45</td>\n    </tr>\n    <tr>\n      <th>2</th>\n      <td>C</td>\n      <td>M</td>\n      <td>1</td>\n      <td>11.50</td>\n    </tr>\n    <tr>\n      <th>3</th>\n      <td>D</td>\n      <td>F</td>\n      <td>1</td>\n      <td>6.40</td>\n    </tr>\n    <tr>\n      <th>4</th>\n      <td>E</td>\n      <td>F</td>\n      <td>1</td>\n      <td>7.45</td>\n    </tr>\n    <tr>\n      <th>5</th>\n      <td>F</td>\n      <td>M</td>\n      <td>1</td>\n      <td>5.08</td>\n    </tr>\n    <tr>\n      <th>6</th>\n      <td>G</td>\n      <td>F</td>\n      <td>1</td>\n      <td>2.93</td>\n    </tr>\n    <tr>\n      <th>7</th>\n      <td>J</td>\n      <td>M</td>\n      <td>1</td>\n      <td>5.27</td>\n    </tr>\n    <tr>\n      <th>8</th>\n      <td>M</td>\n      <td>F</td>\n      <td>1</td>\n      <td>4.23</td>\n    </tr>\n    <tr>\n      <th>9</th>\n      <td>O</td>\n      <td>M</td>\n      <td>1</td>\n      <td>8.10</td>\n    </tr>\n    <tr>\n      <th>10</th>\n      <td>P</td>\n      <td>M</td>\n      <td>1</td>\n      <td>6.35</td>\n    </tr>\n    <tr>\n      <th>11</th>\n      <td>S</td>\n      <td>F</td>\n      <td>1</td>\n      <td>4.04</td>\n    </tr>\n    <tr>\n      <th>12</th>\n      <td>A</td>\n      <td>F</td>\n      <td>2</td>\n      <td>7.40</td>\n    </tr>\n    <tr>\n      <th>13</th>\n      <td>B</td>\n      <td>M</td>\n      <td>2</td>\n      <td>4.02</td>\n    </tr>\n    <tr>\n      <th>14</th>\n      <td>C</td>\n      <td>M</td>\n      <td>2</td>\n      <td>3.60</td>\n    </tr>\n    <tr>\n      <th>15</th>\n      <td>D</td>\n      <td>F</td>\n      <td>2</td>\n      <td>8.40</td>\n    </tr>\n    <tr>\n      <th>16</th>\n      <td>E</td>\n      <td>F</td>\n      <td>2</td>\n      <td>6.00</td>\n    </tr>\n    <tr>\n      <th>17</th>\n      <td>F</td>\n      <td>M</td>\n      <td>2</td>\n      <td>4.83</td>\n    </tr>\n    <tr>\n      <th>18</th>\n      <td>G</td>\n      <td>F</td>\n      <td>2</td>\n      <td>8.70</td>\n    </tr>\n    <tr>\n      <th>19</th>\n      <td>J</td>\n      <td>M</td>\n      <td>2</td>\n      <td>4.09</td>\n    </tr>\n    <tr>\n      <th>20</th>\n      <td>M</td>\n      <td>F</td>\n      <td>2</td>\n      <td>11.89</td>\n    </tr>\n    <tr>\n      <th>21</th>\n      <td>O</td>\n      <td>M</td>\n      <td>2</td>\n      <td>2.35</td>\n    </tr>\n    <tr>\n      <th>22</th>\n      <td>P</td>\n      <td>M</td>\n      <td>2</td>\n      <td>5.40</td>\n    </tr>\n    <tr>\n      <th>23</th>\n      <td>S</td>\n      <td>F</td>\n      <td>2</td>\n      <td>3.64</td>\n    </tr>\n    <tr>\n      <th>24</th>\n      <td>A</td>\n      <td>F</td>\n      <td>3</td>\n      <td>9.70</td>\n    </tr>\n    <tr>\n      <th>25</th>\n      <td>B</td>\n      <td>M</td>\n      <td>3</td>\n      <td>5.10</td>\n    </tr>\n    <tr>\n      <th>26</th>\n      <td>C</td>\n      <td>M</td>\n      <td>3</td>\n      <td>6.30</td>\n    </tr>\n    <tr>\n      <th>27</th>\n      <td>D</td>\n      <td>F</td>\n      <td>3</td>\n      <td>5.00</td>\n    </tr>\n    <tr>\n      <th>28</th>\n      <td>E</td>\n      <td>F</td>\n      <td>3</td>\n      <td>2.70</td>\n    </tr>\n    <tr>\n      <th>29</th>\n      <td>F</td>\n      <td>M</td>\n      <td>3</td>\n      <td>2.96</td>\n    </tr>\n    <tr>\n      <th>30</th>\n      <td>G</td>\n      <td>F</td>\n      <td>3</td>\n      <td>4.79</td>\n    </tr>\n    <tr>\n      <th>31</th>\n      <td>J</td>\n      <td>M</td>\n      <td>3</td>\n      <td>4.35</td>\n    </tr>\n    <tr>\n      <th>32</th>\n      <td>M</td>\n      <td>F</td>\n      <td>3</td>\n      <td>3.51</td>\n    </tr>\n    <tr>\n      <th>33</th>\n      <td>O</td>\n      <td>M</td>\n      <td>3</td>\n      <td>5.03</td>\n    </tr>\n    <tr>\n      <th>34</th>\n      <td>P</td>\n      <td>M</td>\n      <td>3</td>\n      <td>3.22</td>\n    </tr>\n    <tr>\n      <th>35</th>\n      <td>S</td>\n      <td>F</td>\n      <td>3</td>\n      <td>5.42</td>\n    </tr>\n    <tr>\n      <th>36</th>\n      <td>A</td>\n      <td>F</td>\n      <td>4</td>\n      <td>7.90</td>\n    </tr>\n    <tr>\n      <th>37</th>\n      <td>B</td>\n      <td>M</td>\n      <td>4</td>\n      <td>4.90</td>\n    </tr>\n    <tr>\n      <th>38</th>\n      <td>C</td>\n      <td>M</td>\n      <td>4</td>\n      <td>7.54</td>\n    </tr>\n    <tr>\n      <th>39</th>\n      <td>D</td>\n      <td>F</td>\n      <td>4</td>\n      <td>2.80</td>\n    </tr>\n    <tr>\n      <th>40</th>\n      <td>E</td>\n      <td>F</td>\n      <td>4</td>\n      <td>4.80</td>\n    </tr>\n    <tr>\n      <th>41</th>\n      <td>F</td>\n      <td>M</td>\n      <td>4</td>\n      <td>4.74</td>\n    </tr>\n    <tr>\n      <th>42</th>\n      <td>G</td>\n      <td>F</td>\n      <td>4</td>\n      <td>7.28</td>\n    </tr>\n    <tr>\n      <th>43</th>\n      <td>J</td>\n      <td>M</td>\n      <td>4</td>\n      <td>3.54</td>\n    </tr>\n    <tr>\n      <th>44</th>\n      <td>M</td>\n      <td>F</td>\n      <td>4</td>\n      <td>11.18</td>\n    </tr>\n    <tr>\n      <th>45</th>\n      <td>O</td>\n      <td>M</td>\n      <td>4</td>\n      <td>4.75</td>\n    </tr>\n    <tr>\n      <th>46</th>\n      <td>P</td>\n      <td>M</td>\n      <td>4</td>\n      <td>2.39</td>\n    </tr>\n    <tr>\n      <th>47</th>\n      <td>S</td>\n      <td>F</td>\n      <td>4</td>\n      <td>5.33</td>\n    </tr>\n    <tr>\n      <th>48</th>\n      <td>A</td>\n      <td>F</td>\n      <td>5</td>\n      <td>7.30</td>\n    </tr>\n    <tr>\n      <th>49</th>\n      <td>B</td>\n      <td>M</td>\n      <td>5</td>\n      <td>2.44</td>\n    </tr>\n    <tr>\n      <th>50</th>\n      <td>C</td>\n      <td>M</td>\n      <td>5</td>\n      <td>4.67</td>\n    </tr>\n    <tr>\n      <th>51</th>\n      <td>D</td>\n      <td>F</td>\n      <td>5</td>\n      <td>8.80</td>\n    </tr>\n    <tr>\n      <th>52</th>\n      <td>E</td>\n      <td>F</td>\n      <td>5</td>\n      <td>4.80</td>\n    </tr>\n    <tr>\n      <th>53</th>\n      <td>F</td>\n      <td>M</td>\n      <td>5</td>\n      <td>5.16</td>\n    </tr>\n    <tr>\n      <th>54</th>\n      <td>G</td>\n      <td>F</td>\n      <td>5</td>\n      <td>4.10</td>\n    </tr>\n    <tr>\n      <th>55</th>\n      <td>J</td>\n      <td>M</td>\n      <td>5</td>\n      <td>3.66</td>\n    </tr>\n    <tr>\n      <th>56</th>\n      <td>M</td>\n      <td>F</td>\n      <td>5</td>\n      <td>2.21</td>\n    </tr>\n    <tr>\n      <th>57</th>\n      <td>O</td>\n      <td>M</td>\n      <td>5</td>\n      <td>5.94</td>\n    </tr>\n    <tr>\n      <th>58</th>\n      <td>P</td>\n      <td>M</td>\n      <td>5</td>\n      <td>9.67</td>\n    </tr>\n    <tr>\n      <th>59</th>\n      <td>S</td>\n      <td>F</td>\n      <td>5</td>\n      <td>3.88</td>\n    </tr>\n  </tbody>\n</table>\n</div>"
          },
          "metadata": {}
        }
      ]
    },
    {
      "cell_type": "code",
      "source": "",
      "metadata": {},
      "execution_count": null,
      "outputs": []
    }
  ]
}