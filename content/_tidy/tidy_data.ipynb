{
  "metadata": {
    "kernelspec": {
      "name": "python",
      "display_name": "Python (Pyodide)",
      "language": "python"
    },
    "language_info": {
      "codemirror_mode": {
        "name": "python",
        "version": 3
      },
      "file_extension": ".py",
      "mimetype": "text/x-python",
      "name": "python",
      "nbconvert_exporter": "python",
      "pygments_lexer": "ipython3",
      "version": "3.8"
    }
  },
  "nbformat_minor": 4,
  "nbformat": 4,
  "cells": [
    {
      "cell_type": "markdown",
      "source": "# 整然(Tidy)データ",
      "metadata": {}
    },
    {
      "cell_type": "markdown",
      "source": "## この環境(jupyter notebook)で処理を実行するには",
      "metadata": {}
    },
    {
      "cell_type": "markdown",
      "source": "---\n\n+ コード(ここではpythonのコード や 各種のコマンド)や説明書き(markdown)の書かれたブロックのことをセルと呼びます\n+ コードの実行は対象セルがアクティブな状態で **SHIFT + ENTER** または **Ctrl + ENTER** で実施します\n  + 対象セルをアクティブにするにはセルをクリックすればOKです(セルの左横に青いバーが表示されます)\n    + 「SHIFT + ENTER」:対象セルを実行→次のセルをアクティブにする\n    + 「Ctrl + ENTER」:対象セルを実行→現在のセルがアクティブのまま\n+ まずは**上から順に実行**していってください\n    + 実行中or実行完了の判断は右上に位置しているPython(Pyodide)の右横にある〇印で行います\n    + 〇が灰色になっていれば実行中<status:busy>,白色になれば実行完了(または実行前)の状態<status:idle>となります\n      + 〇をマウスオーバーするとstatusのほかに実行時間などの情報が表示されます\n---",
      "metadata": {}
    },
    {
      "cell_type": "markdown",
      "source": "+ ではためしに↓のセルをアクティブにして SHIFT + ENTER を押してみて下さい！",
      "metadata": {}
    },
    {
      "cell_type": "code",
      "source": "#print\nprint(\"出力結果はこんな感じになるよ\")",
      "metadata": {
        "trusted": true
      },
      "execution_count": null,
      "outputs": []
    },
    {
      "cell_type": "markdown",
      "source": "---\n+ うまく文字列が出力されたら順番に以下のセルを実行していってください！",
      "metadata": {}
    },
    {
      "cell_type": "code",
      "source": "#数値の計算\n12 + 5",
      "metadata": {
        "trusted": true
      },
      "execution_count": null,
      "outputs": []
    },
    {
      "cell_type": "code",
      "source": "#変数へ数値を代入\nx = 3\ny = 2\nx * y",
      "metadata": {
        "trusted": true
      },
      "execution_count": null,
      "outputs": []
    },
    {
      "cell_type": "code",
      "source": "#変数へ文字列を代入\na = \"菅田\"\nb = \"将暉\"\na + b",
      "metadata": {
        "trusted": true
      },
      "execution_count": null,
      "outputs": []
    },
    {
      "cell_type": "markdown",
      "source": "+ とりあえずセルに書かれたコードの実行の仕方は把握されたかと思います\n+ では進みましょう(pythonとは？はいまのところは知らなくてもよいです)",
      "metadata": {}
    },
    {
      "cell_type": "markdown",
      "source": "---\n## **雑然データから整然データへの変換**",
      "metadata": {
        "tags": []
      }
    },
    {
      "cell_type": "markdown",
      "source": "このノートブックと同じ場所に格納されているデータ**shotput.csv**および**tydy_shotput.csv**はスポーツテストで実施した砲丸投げの計測結果のデータと定義して進めて行きます。\n+ 各員5回の投擲を実施しその飛距離を計測\n+ 各員の名前はアルファベット一文字で表されている",
      "metadata": {}
    },
    {
      "cell_type": "markdown",
      "source": "### 必要なライブラリをインポートする\n+ pandas : データフレームをハンドリングするライブラリ\n+ 環境によってはこの処理に40～50秒程度かかるかもしれません",
      "metadata": {}
    },
    {
      "cell_type": "code",
      "source": "import pandas as pd\nimport numpy as np\nfrom sklearn.metrics import mean_squared_error\nimport matplotlib.pyplot as plt",
      "metadata": {
        "trusted": true
      },
      "execution_count": null,
      "outputs": []
    },
    {
      "cell_type": "markdown",
      "source": "### CSVファイル shotput.csv (雑然データ)を読み込む\n+ 政府の統計データや各種の配布データは人間の理解しやすさを重視し以下に出力されるような表データとして配布されることが多いです\n+ ただしこれはコンピュータでのデータ処理にはやや向いていません",
      "metadata": {}
    },
    {
      "cell_type": "code",
      "source": "df = pd.read_csv(\"shotput.csv\")\ndf",
      "metadata": {
        "trusted": true
      },
      "execution_count": null,
      "outputs": []
    },
    {
      "cell_type": "markdown",
      "source": "---\n## 整然データを読み込む",
      "metadata": {}
    },
    {
      "cell_type": "markdown",
      "source": "+ 先ほど読み込んだ雑然データ shotput.csv を整然データに変換したものである **tydy_shotput.csv** を読み込んでみましょう",
      "metadata": {}
    },
    {
      "cell_type": "code",
      "source": "dft = pd.read_csv(\"tidy_shotput.csv\")\ndft",
      "metadata": {
        "trusted": true
      },
      "execution_count": null,
      "outputs": []
    },
    {
      "cell_type": "markdown",
      "source": "+ このような整然データにしておけば各種の集計(データの抽出)がたやすくなります",
      "metadata": {}
    },
    {
      "cell_type": "markdown",
      "source": "---\n### 整然データを用いてデータの抽出処理(エクセルのフィルタのよーなもの)を実施 \n+ データ解析で用いられるプログラミング言語(Python,Rなど)で用意されているデータ処理や作図の関数はこのような整然データを前提としています。\n+ まずは各員の第一回目の計測結果のみを抽出してみましょう。",
      "metadata": {}
    },
    {
      "cell_type": "code",
      "source": "dft1 = dft[dft[\"投目\"]==1]\ndft1",
      "metadata": {
        "trusted": true
      },
      "execution_count": null,
      "outputs": []
    },
    {
      "cell_type": "markdown",
      "source": "+ 次に第1投目における男女の投擲の記述統計量を求め、各群における距離のばらつきを箱ひげ図で表してみましょう。\n+ ばらつきを議論するにはデータが足らないですが今日は「こんなことができるよ」の例なのでお気になさらず",
      "metadata": {}
    },
    {
      "cell_type": "code",
      "source": "#import matplotlib.pyplot as plt\n\nfdata = dft1[dft1[\"性別\"]==\"F\"]['距離']\nmdata = dft1[dft1[\"性別\"]==\"M\"]['距離']\n\nfig = plt.figure(figsize=(5, 5))\nax1 = fig.add_subplot(111)\nax1.boxplot((fdata,mdata),showmeans=True, whis=[0,100])# whis=[0,100] と引数を指定すると最大値と最小値がひげの先端となる\nax1.set_xticklabels(['Female', 'Male'])\nax1.set_ylabel('Distance_m')\nplt.show()",
      "metadata": {
        "id": "CmIsDO4kF97f",
        "trusted": true
      },
      "execution_count": null,
      "outputs": []
    },
    {
      "cell_type": "markdown",
      "source": "---\n### 元の視認しやすいデータに戻すこともできます\n+ なので最初から **整然データを整備** しておけばよいのです\n+ たとえば**クロス集計**処理を行うことで先ほど配布した shotput.csv とおなじ状態にデータを成形することができます",
      "metadata": {}
    },
    {
      "cell_type": "code",
      "source": "dft.pivot_table(values = \"距離\", index = [\"名前\",\"性別\"], columns = \"投目\")",
      "metadata": {
        "trusted": true
      },
      "execution_count": null,
      "outputs": []
    },
    {
      "cell_type": "markdown",
      "source": "---\n### 雑然データを整然データに変換する\n+ ある程度整理されたデータによっては雑然データを整然データに変換することができます。\n+ 以下より先ほど提示した雑然データ **shotput.csv** をコンピュータ処理に向いた[整然データ](https://id.fnshr.info/2017/01/09/tidy-data-intro/)へ変換する処理を行います。\n+ 整然データへの変換には **pd.melt()** 関数を用いて処理を行います。オプションは以下のように設定します。\n+ **やることその1:** 変更しない列を決める\n  + **id_vars：** 変更しない列名「**名前**」「**性別**」を指定する \n---\n+ **やることその2:** 同質のデータが異なる列「1」「2」「3」「4」「5」の値として格納されているため，それらを一つの列「距離」にまとめる\n  + **value_name：** やること1の結果が格納される列名「**距離**」を指定する    \n---\n+ **やることその3:** 元データの列名「1投目」「2投目」「3投目」「4投目」「5投目」自体を値とする列「投目」を作成する\n  + **var_name：** やること2の結果が格納される列名「**投目**」を指定する",
      "metadata": {}
    },
    {
      "cell_type": "code",
      "source": "dfm = pd.melt(df,id_vars=[\"名前\",\"性別\"], value_name=\"距離\", var_name=\"投目\")\n#dfm.to_csv(\"shotput_to_tidy.csv\",index = True)\ndfm",
      "metadata": {
        "trusted": true
      },
      "execution_count": null,
      "outputs": []
    },
    {
      "cell_type": "markdown",
      "source": "+ 投目列の各レコードに含まれる文字列\"投目\"をデータから削除し整数として定義する",
      "metadata": {}
    },
    {
      "cell_type": "code",
      "source": "dfm[\"投目\"] = dfm[\"投目\"].apply(lambda x: int(x.replace(\"投目\",\"\")))\ndfm",
      "metadata": {
        "trusted": true
      },
      "execution_count": null,
      "outputs": []
    },
    {
      "cell_type": "markdown",
      "source": "## では講義パートに戻りましょう\n+ 今後このJupyterLiteは統計解析やデータのハンドリングの実習で用います\n+ 都度URLをLMSで示しますが、ブラウザでブックマークをしておいてください\n+ 作業内容は今使っているPCの今使っているブラウザでのみ保持されます\n+ 作業環境が変わると元の状態に戻りますのでご注意ください",
      "metadata": {}
    },
    {
      "cell_type": "code",
      "source": "",
      "metadata": {},
      "execution_count": null,
      "outputs": []
    }
  ]
}