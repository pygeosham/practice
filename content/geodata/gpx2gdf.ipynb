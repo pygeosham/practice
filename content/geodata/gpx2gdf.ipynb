{
  "metadata": {
    "language_info": {
      "codemirror_mode": {
        "name": "python",
        "version": 3
      },
      "file_extension": ".py",
      "mimetype": "text/x-python",
      "name": "python",
      "nbconvert_exporter": "python",
      "pygments_lexer": "ipython3",
      "version": "3.8"
    },
    "kernelspec": {
      "name": "python",
      "display_name": "Python (Pyodide)",
      "language": "python"
    }
  },
  "nbformat_minor": 4,
  "nbformat": 4,
  "cells": [
    {
      "cell_type": "markdown",
      "source": "# GPXファイルの読み込みと他のファイルフォーマットへの変換\n+ STEP01:GPXファイルのトラックポイントをGeoDataFrameに変換する\n+ STEP02:GeoDataFrameをGeoJSON,CSV,ESRI Shapefileへと変換する",
      "metadata": {}
    },
    {
      "cell_type": "markdown",
      "source": "## ライブラリのインストール",
      "metadata": {}
    },
    {
      "cell_type": "code",
      "source": "%pip install -q gpxpy\n%pip install -q folium\n%pip install -q mapclassify",
      "metadata": {
        "trusted": true
      },
      "execution_count": null,
      "outputs": []
    },
    {
      "cell_type": "markdown",
      "source": "## ライブラリのインポート",
      "metadata": {}
    },
    {
      "cell_type": "code",
      "source": "import gpxpy,datetime\nimport pandas as pd\nimport geopandas as gpd\nfrom shapely.geometry import Point, LineString",
      "metadata": {
        "trusted": true
      },
      "execution_count": null,
      "outputs": []
    },
    {
      "cell_type": "markdown",
      "source": "## GPXファイルを開く\n+ GPXにはwaypoint,route,trackのデータが格納されている可能性があるのでそれらの有無をチェックする",
      "metadata": {}
    },
    {
      "cell_type": "code",
      "source": "gpx_file = open('track.gpx', 'r')\ngpx = gpxpy.parse(gpx_file)\n\n## 含まれているデータの確認(waypoints,routes,tracks)\nprint(\"waypoints:\",gpx.waypoints)\nprint(\"routes:\",gpx.routes)\nprint(\"tracks:\",gpx.tracks)",
      "metadata": {
        "trusted": true
      },
      "execution_count": null,
      "outputs": []
    },
    {
      "cell_type": "markdown",
      "source": "## Trackデータを開く\n+ 最初の10レコードのみを確認",
      "metadata": {}
    },
    {
      "cell_type": "code",
      "source": "gpxtp = gpx.tracks[0].segments[0].points\ngpxtp[0:10]",
      "metadata": {
        "trusted": true
      },
      "execution_count": null,
      "outputs": []
    },
    {
      "cell_type": "markdown",
      "source": "## Trackデータをデータフレームに変換する\n+ Trackpointの各レコードには latitude, longitude, elevation, time, speed の要素(情報)が含まれている\n+ それらをデータフレームのlat, lon, alt, time, speed 列にそれぞれ格納する",
      "metadata": {}
    },
    {
      "cell_type": "code",
      "source": "gpxdf = [[i.latitude, i.longitude, i.elevation, i.time, i.speed] for i in gpxtp]\ndf = pd.DataFrame(gpxdf, columns=['lon', 'lat', 'alt', 'time', 'speed'])\ndf.head(5)",
      "metadata": {
        "trusted": true
      },
      "execution_count": null,
      "outputs": []
    },
    {
      "cell_type": "markdown",
      "source": "+ datatime形式の列情報あるとgeodataframeへの変換処理でこけるので文字列に変更しておく",
      "metadata": {}
    },
    {
      "cell_type": "code",
      "source": "df['time'] = df['time'].astype(str)\ndf.head(5)",
      "metadata": {
        "trusted": true
      },
      "execution_count": null,
      "outputs": []
    },
    {
      "cell_type": "markdown",
      "source": "## GeoDataFrameに変換する",
      "metadata": {}
    },
    {
      "cell_type": "code",
      "source": "geometry = [Point(xy) for xy in zip(df.lat, df.lon)]\ngdf = gpd.GeoDataFrame(df, geometry=geometry)\ngdf.head(5)",
      "metadata": {
        "trusted": true
      },
      "execution_count": null,
      "outputs": []
    },
    {
      "cell_type": "markdown",
      "source": "## 座標系および投影法をEPSGコードで定義する\n+ DataFrameからGeoDataFrameに変換しただけだと投影情報はなにもないので定義する",
      "metadata": {}
    },
    {
      "cell_type": "code",
      "source": "print(\"before\",gdf.crs)\ngdf.crs = \"EPSG:4326\"\nprint(\"after\",gdf.crs)",
      "metadata": {
        "trusted": true
      },
      "execution_count": null,
      "outputs": []
    },
    {
      "cell_type": "markdown",
      "source": "## とりあえずプロットしてみる\n+ 1万件を超えるとJupyterLite環境では描画が無理っす..となることがある\n+ そんな時はgoogle colaboratoryなどをつかうとよいですよー",
      "metadata": {}
    },
    {
      "cell_type": "code",
      "source": "gdf.explore()",
      "metadata": {
        "trusted": true
      },
      "execution_count": null,
      "outputs": []
    },
    {
      "cell_type": "markdown",
      "source": "## GeoJSONへの書き出し\n+ 汎用的な地理情報ファイルフォーマットであるGeoJSONとして出力",
      "metadata": {}
    },
    {
      "cell_type": "code",
      "source": "#GeoJSONファイルとして出力\ngdf.to_file('export.geojson',driver='GeoJSON', encoding='UTF-8')",
      "metadata": {
        "tags": [],
        "trusted": true
      },
      "execution_count": null,
      "outputs": []
    },
    {
      "cell_type": "markdown",
      "source": "## ESRI Shapefile形式への書き出し\n+ 列名の上限が半角英数10文字であることに注意\n  + 上限を超えている場合はあらかじめ列名を変更してから変換するとよい\n+ 複数のファイルが出力されるので事前にフォルダを生成しておく(べつにやらんでもよいけど)",
      "metadata": {}
    },
    {
      "cell_type": "code",
      "source": "#カレントディレクトリにshpフォルダを生成\nimport os\n\n#フォルダ名を定義\ndirname = \"shp\"\n\nif os.path.isdir(dirname):\n    print(dirname + \"フォルダがすでにあります\")\nelse:\n    os.mkdir(dirname)\n    print(dirname + \"フォルダを作りました\")\n\n#ESRI shapefileとして出力\ngdf.to_file(\"./\" + dirname + \"/export.shp\",encoding='UTF-8')",
      "metadata": {
        "trusted": true
      },
      "execution_count": null,
      "outputs": []
    },
    {
      "cell_type": "markdown",
      "source": "### CSVファイルとして書き出し\n+ ジオメトリ列を削除したものをCSVファイルとして出力\n  + 元のGeoDataFrameにはgeometry列は残ったまま(削除したわけではない)",
      "metadata": {}
    },
    {
      "cell_type": "code",
      "source": "gdf.drop('geometry', axis=1).to_csv(\"export.csv\")",
      "metadata": {
        "tags": [],
        "trusted": true
      },
      "execution_count": null,
      "outputs": []
    }
  ]
}