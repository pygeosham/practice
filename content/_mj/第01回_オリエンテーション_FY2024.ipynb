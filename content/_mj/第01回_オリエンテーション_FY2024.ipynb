{
  "metadata": {
    "colab": {
      "provenance": []
    },
    "kernelspec": {
      "name": "python",
      "display_name": "Python (Pyodide)",
      "language": "python"
    },
    "language_info": {
      "codemirror_mode": {
        "name": "python",
        "version": 3
      },
      "file_extension": ".py",
      "mimetype": "text/x-python",
      "name": "python",
      "nbconvert_exporter": "python",
      "pygments_lexer": "ipython3",
      "version": "3.8"
    }
  },
  "nbformat_minor": 4,
  "nbformat": 4,
  "cells": [
    {
      "cell_type": "markdown",
      "source": "# 第01回 Pythonを用いたデータのハンドリング",
      "metadata": {
        "id": "Qv0gsbwZXQ6c"
      }
    },
    {
      "cell_type": "markdown",
      "source": "### 初回はこんな感じの内容をゆっくりやってみましょう\n+ データのアップロード\n+ データの読み込み\n+ データの中身の表示\n+ ちょっとだけ作図してみる\n+ ちょっとだけ地図化してみる",
      "metadata": {
        "id": "amFJb6Kbg-RX"
      }
    },
    {
      "cell_type": "markdown",
      "source": "## この環境(jupyter notebook)で処理を実行するには",
      "metadata": {}
    },
    {
      "cell_type": "markdown",
      "source": "---\n\n+ コード(ここではpythonのコード や 各種のコマンド)や説明書き(markdown)の書かれたブロックのことをセルと呼びます\n+ コードの実行は対象セルがアクティブな状態で **SHIFT + ENTER** または **Ctrl + ENTER** で実施します\n  + 対象セルをアクティブにするにはセルをクリックすればOKです(セルの左横に青いバーが表示されます)\n    + 「SHIFT + ENTER」:対象セルを実行→次のセルをアクティブにする\n    + 「Ctrl + ENTER」:対象セルを実行→現在のセルがアクティブのまま\n+ まずは**上から順に実行**していってください\n    + 実行中or実行完了の判断は右上に位置しているPython(Pyodide)の右横にある〇印で行います\n    + 〇が灰色になっていれば実行中<status:busy>,白色になれば実行完了(または実行前)の状態<status:idle>となります\n      + 〇をマウスオーバーするとstatusのほかに実行時間などの情報が表示されます",
      "metadata": {}
    },
    {
      "cell_type": "markdown",
      "source": "## Pythonをさわってみる",
      "metadata": {}
    },
    {
      "cell_type": "markdown",
      "source": "#### フォルダにアップしされているファイル名の確認",
      "metadata": {
        "id": "7NK12MUZoKCR"
      }
    },
    {
      "cell_type": "code",
      "source": "# globっていうファイル探索の「道具箱」がある\n# それを使えるようにする処理が 「import」 ってことよ\n\nimport glob\n\n# 指定した場所のファイルのリストを返す処理を実施\n## 「glob」という道具箱の中の「glob」という道具をつかって()内で定義するファイルを探すってことよ\n\nflist = glob.glob(\"*\")\n\n# 変数に格納されたファイル名のリストを表示させる\n\nflist\n\n# ['2015.csv','第01回_オリエンテーション_FY2024.ipynb']と出力されればOKです",
      "metadata": {
        "id": "1_m8ZWK7njGS",
        "trusted": true
      },
      "execution_count": null,
      "outputs": []
    },
    {
      "cell_type": "markdown",
      "source": "#### 変数に数値や文字列を代入する\n+ 変数は代入した数値や文字列として使えるようになる",
      "metadata": {
        "id": "wSI8KxE5KMG7"
      }
    },
    {
      "cell_type": "code",
      "source": "# = (イコール) は 左辺 に 右辺の内容を「代入」するときに使います\n# 変数 x に 3 を代入する場合は\n# 変数 x を左辺に 数値 3 を右辺において代入する場合は以下の通りです\n\nx = 3\n\n# print()とは()の中身を出力する関数です。\n\nprint(x)\n\n## 好きな俳優・アーティストの名前に変えてみてください\n\ny = \"菅田将暉\"\nprint(y)\n\n# ←こんな感じで#(ハッシュ)を書くとそれ以降(#の右側)は\n# 書かれたプログラムと関係がなくなります\n# (つまりメモ書きとして使えます)\n",
      "metadata": {
        "id": "b5izQJHlKGUf",
        "trusted": true
      },
      "execution_count": null,
      "outputs": []
    },
    {
      "cell_type": "markdown",
      "source": "#### 演算子をつかった処理\n+ 計算や文字列の結合",
      "metadata": {
        "id": "1X_R5GaGYSBE"
      }
    },
    {
      "cell_type": "code",
      "source": " a = x + 1\n print(a)\n\n z = y + \"さん\"\n print(z)",
      "metadata": {
        "id": "UrKsyUFGKGaZ",
        "trusted": true
      },
      "execution_count": null,
      "outputs": []
    },
    {
      "cell_type": "markdown",
      "source": "#### なぜ変数に代入するの?\n+ その後扱いやすくなるから  \n  + 同じ情報を繰り返し入力したり指定したりする必要がない\n    + ケースによって敬称を変えたいなど  \n  + 入れる情報の変更がしやすい\n    + 菅田将暉を新垣結衣に変更したいなど\n",
      "metadata": {
        "id": "pVvtzsWhNTzt"
      }
    },
    {
      "cell_type": "code",
      "source": "#俳優の例:\"清原果耶\",\"浜辺美波\",\"鈴鹿央士\",\"神木隆之介\"\n#菅田将暉,\n\n#適宜好きな俳優の名前に変更してみて下さい\ny = \"清原果耶\"\n\nprint(y + \"さま\") # 憧れを込めたいとき\n\nprint(y + \"氏\") # ニュースメディアで取り上げられるとき\n\nprint(y + \"君\") # フランクに話しかけたいとき\n\nprint(y + \"っち\") # なれなれしく話したいとき",
      "metadata": {
        "id": "6HLZnYGoKUhE",
        "trusted": true
      },
      "execution_count": null,
      "outputs": []
    },
    {
      "cell_type": "markdown",
      "source": "#### 繰り返し処理\n+ 複数の要素が格納されている\"コンテナ型変数\"などから一つ一つ要素を取り出して処理を行う",
      "metadata": {
        "id": "HJX7Exs4fHK2"
      }
    },
    {
      "cell_type": "code",
      "source": "x = [\"清原果耶\",\"浜辺美波\",\"鈴鹿央士\",\"神木隆之介\"]\n\nfor i in x:\n    print(i) #繰り返し処理を行うパートはインデントさせる",
      "metadata": {
        "trusted": true
      },
      "execution_count": null,
      "outputs": []
    },
    {
      "cell_type": "markdown",
      "source": "+ 一瞬で4つの名前が出力されるので繰り返し処理感がない(ピンとこない)ひと向け",
      "metadata": {}
    },
    {
      "cell_type": "code",
      "source": "x = [\"清原果耶\",\"浜辺美波\",\"鈴鹿央士\",\"神木隆之介\"]\n\nfor i in x:\n    print(\"--人気の俳優は?--\") #繰り返し処理を行うパートはインデントさせる(複数行にわたる場合は行頭を揃える)\n    print(i)",
      "metadata": {
        "id": "nt-WE5opMqzN",
        "trusted": true
      },
      "execution_count": null,
      "outputs": []
    },
    {
      "cell_type": "markdown",
      "source": "#### 条件分岐\n\n+ 繰り返し処理 & 条件文のコンビネーション\n+ 桂三度 \"3の倍数でアホになる\" 処理を書いてみる",
      "metadata": {
        "id": "VqO9rjczgSqh"
      }
    },
    {
      "cell_type": "code",
      "source": "y = [1,2,3,4,5,6,7,8,9,10]\n\nfor i in y: ## y に格納された数値を順番にとりだし繰り返し変数 i に代入する\n  if i % 3 == 0: #もし i を3で割ったあまりが0ならば\n    print(str(i) + \"でぇーす\") # 3の倍数なのでアホになってカウントする\n\n  else: # そうじゃなかったら\n    print(i) # ふつうにカウントする\n",
      "metadata": {
        "id": "5btQHwCkfgcS",
        "trusted": true
      },
      "execution_count": null,
      "outputs": []
    },
    {
      "cell_type": "markdown",
      "source": "#### 演習：以下を編集して\"5の倍数でアホになる\" 処理に変更してみましょう\n+ ヒント：数値を1か所変更するだけです",
      "metadata": {
        "id": "PreOGnKNP0_P"
      }
    },
    {
      "cell_type": "code",
      "source": "# 1から10までの数値をリストとして y に格納（代入）する\ny = [1,2,3,4,5,6,7,8,9,10]\n\nfor i in y: ## y に格納された数値を順番にとりだし繰り返し変数 i に代入する\n  if i % 3 == 0: ##もし i を3で割ったあまりが0ならば\n    print(str(i) + \"でぇーす\") ## 3の倍数なのでアホになってカウントする\n      \n  else: ## そうじゃなかったら\n    print(i) ## ふつうにカウントする\n",
      "metadata": {
        "id": "bOb_bTdxgJZl",
        "trusted": true
      },
      "execution_count": null,
      "outputs": []
    },
    {
      "cell_type": "markdown",
      "source": "### ファイルの読み込み\n+ csvファイルを読みだして「データフレーム」という形に変換し df2015 という変数に代入します\n  + データフレームはPythonでいろいろなデータを扱うためにつうかうエクセルのシートのようなものです\n  + エクセルのシートのように行と列の表のような形で構成されています\n  + table2015.csvは 2015年に日本にやってきた台風の移動ルートと状況の変化を時系列で記録したものです\n  + 上記データは気象庁のwebsite内の[台風位置表ページ](https://www.data.jma.go.jp/yoho/typhoon/position_table/index.html)より入手したものであり当該サイトでは2001年以降のデータが公開されています。",
      "metadata": {
        "id": "hDiOXnQoCdHL"
      }
    },
    {
      "cell_type": "code",
      "source": "import pandas as pd\n\n# CSVファイルをデータフレームとして読み込み\ndf2015 = pd.read_csv(\"table2015.csv\", encoding='utf-8')\n\n# ← df2015のうしろに .head() と追記すると最初の5行のみが表示されます\ndf2015",
      "metadata": {
        "id": "2Ja6E_SiBy1f",
        "trusted": true
      },
      "execution_count": null,
      "outputs": []
    },
    {
      "cell_type": "markdown",
      "source": "---\n### データフレームからの行(レコード)や列(変数)の抽出  ",
      "metadata": {
        "id": "DQx4Ko2jQF1m"
      }
    },
    {
      "cell_type": "markdown",
      "source": "#### データフレームの特定の列のみを取り出してみる\n+ 1列のみを指定すると series 型として抽出されます",
      "metadata": {
        "id": "EiIu7GH4DNkn"
      }
    },
    {
      "cell_type": "code",
      "source": "## 列名を指定する\ndf2015[\"中心気圧\"]",
      "metadata": {
        "id": "gpW5zKXzN0uM",
        "trusted": true
      },
      "execution_count": null,
      "outputs": []
    },
    {
      "cell_type": "markdown",
      "source": "+ データフレームとして抽出したい場合は以下のように記述します",
      "metadata": {
        "id": "Go5rY8NHOgT-"
      }
    },
    {
      "cell_type": "code",
      "source": "df2015[[\"中心気圧\"]]",
      "metadata": {
        "id": "viW-frJpOggx",
        "trusted": true
      },
      "execution_count": null,
      "outputs": []
    },
    {
      "cell_type": "markdown",
      "source": "#### 特定のレコードの抽出\n+ 1)元のデータフレーム(df2015)から特定のレコード(台風番号1501のレコード)のみを抽出\n+ 2)1)を新しいデータフレーム(df1501)に代入する",
      "metadata": {
        "id": "IT_NNvhVONL3"
      }
    },
    {
      "cell_type": "code",
      "source": "df1501 = df2015[df2015[\"台風番号\"]==1501]\ndf1501",
      "metadata": {
        "id": "TRp6TLLDONbX",
        "trusted": true
      },
      "execution_count": null,
      "outputs": []
    },
    {
      "cell_type": "markdown",
      "source": "### データの可視化(グラフの作成)\n#### 中心気圧の時系列変化をプロットしてみる\n+ ここでは縦軸に気圧,横軸に日付をプロットしてみることにする\n  + いろいろ作図してみたい人は[ここ](https://pythondatascience.plavox.info/matplotlib/%E6%8A%98%E3%82%8C%E7%B7%9A%E3%82%B0%E3%83%A9%E3%83%95)を参考にしてください",
      "metadata": {
        "id": "4u54wrK3MwKO",
        "tags": []
      }
    },
    {
      "cell_type": "code",
      "source": "import matplotlib.pyplot as plt\n#import japanize_matplotlib\n\nplt.plot(df1501[\"日\"],df1501[\"中心気圧\"])\n",
      "metadata": {
        "id": "78Sv1BZMLqJY",
        "trusted": true
      },
      "execution_count": null,
      "outputs": []
    },
    {
      "cell_type": "markdown",
      "source": "### データの可視化(地図化)\n#### 指定した年に発生したすべての台風の移動ルートと発生地点をプロットしてみる",
      "metadata": {}
    },
    {
      "cell_type": "markdown",
      "source": "#### 必要なライブラリのインストール\n+ pipというパッケージやライブラリを管理するツールを使いネット経由でダウンロード&インストールします\n+ 今回はfoliumという地図表示のためのライブラリをインストールします\n  + leaflet.js というJavascriptのwebmapライブラリをPythonライブラリ化したもの",
      "metadata": {}
    },
    {
      "cell_type": "code",
      "source": "%pip install -q folium",
      "metadata": {
        "trusted": true
      },
      "execution_count": null,
      "outputs": []
    },
    {
      "cell_type": "markdown",
      "source": "#### 地図にプロットしてみる(実行するだけでOK)\n+ CSVファイルを読み込みデータフレームに変換\n+ 緯度経度を抽出して線データや点データに変換\n+ 地図上にプロット",
      "metadata": {
        "id": "EKhHh8DNXJmE"
      }
    },
    {
      "cell_type": "code",
      "source": "# モジュールのインポート\nimport pandas as pd\nimport folium\nimport random\n\n# データフレーム(エクセルのシートのようなものです)として読み込み\ndf = pd.read_csv(\"table2015.csv\", encoding='utf-8')\n\n# 中心座標（東京駅から緯度10度ぶん南にしといた）\ncenter = [25.681175139201436, 139.76723208628064]\n\n# ベースの地図作成\nm = folium.Map(center, zoom_start=3)\n\n# 台風の進路をポリラインで表示\nfor nr, group in df.groupby('台風番号'):\n    linex = list(zip(group[\"緯度\"],group[\"経度\"]))\n    # ランダムにカラーコード(16進数)を設定する\n    color = [\"#\" + \"\".join([random.choice(\"0123456789ABCDEF\") for j in range(6)])]\n    folium.PolyLine(linex, weight=3, color=color[0]).add_to(m)\n\n# 台風の発生地点\nfor nr, group in df.groupby('台風番号'):\n    folium.Marker(\n        location = [group[\"緯度\"].iloc[0],group[\"経度\"].iloc[0]],\n        #マウスオーバーで台風番号が表示される\n        tooltip = str(group[\"台風番号\"].iloc[0]),\n    ).add_to(m)\n\n# htmlとして保存(ブラウザで表示可能なモノ)\nm.save(\"typhoon.html\")\n\n# jupyter上に地図表示\nm\n",
      "metadata": {
        "trusted": true
      },
      "execution_count": null,
      "outputs": []
    },
    {
      "cell_type": "markdown",
      "source": "+ 出力したhtmlファイルを右クリック→ダウンロードする\n+ ダウンロードしたファイルをダブルクリックしてブラウザで表示させてみる",
      "metadata": {}
    },
    {
      "cell_type": "markdown",
      "source": "本日の課題提出手順：\n---\n1)上記の処理を実行したのち 第01回_オリエンテーション.ipynb を上書き保存してください。  \n**File** → **SaveNotebook** と進むとファイルが上書き保存され、作業内容が保存されます  \n\n2)1)で上書き保存した 第01回_オリエンテーション_FY2024.ipynb をダウンロードしてください。  \n**File** → **Download** or **ファイルを右クリック** → **Download** を実施すると ipynb ファイルがダウンロードされます\n\n3)2)でダウンロードした第01回_オリエンテーション.ipynbを schooswingの提出場所に提出してください。  ",
      "metadata": {
        "id": "kAkCSa7GFhz7"
      }
    },
    {
      "cell_type": "code",
      "source": "",
      "metadata": {},
      "execution_count": null,
      "outputs": []
    }
  ]
}