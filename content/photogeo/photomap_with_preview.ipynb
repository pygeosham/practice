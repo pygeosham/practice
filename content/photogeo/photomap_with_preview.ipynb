{
  "metadata": {
    "language_info": {
      "codemirror_mode": {
        "name": "python",
        "version": 3
      },
      "file_extension": ".py",
      "mimetype": "text/x-python",
      "name": "python",
      "nbconvert_exporter": "python",
      "pygments_lexer": "ipython3",
      "version": "3.8"
    },
    "kernelspec": {
      "name": "python",
      "display_name": "Python (Pyodide)",
      "language": "python"
    }
  },
  "nbformat_minor": 4,
  "nbformat": 4,
  "cells": [
    {
      "cell_type": "markdown",
      "source": "# Photogeo→CSV→MAPPING\n[Photogeoリポジトリ](https://github.com/pygeosham/photogeo)で示された手順で取得されるデータ(Google スプレッドシート)をCSVファイルとして読み込んでJupyterLiteで表示させるサンプルコードです",
      "metadata": {}
    },
    {
      "cell_type": "markdown",
      "source": "地図ライブラリのインポート",
      "metadata": {}
    },
    {
      "cell_type": "markdown",
      "source": "Folium (leaflet.jsを用いた地図表示ライブラリ) のインストール",
      "metadata": {}
    },
    {
      "cell_type": "code",
      "source": "%pip install -q folium",
      "metadata": {
        "trusted": true
      },
      "execution_count": null,
      "outputs": []
    },
    {
      "cell_type": "markdown",
      "source": "以下の情報が格納されているCSVファイル(photo_data.csv)を読み込みデータフレームに変換\n+ Forms経由でGoogleDriveに格納された画像情報へのリンク(画像ファイルの指定 列)\n+ Forms経由で入力された画像についてのコメント(タイトル,解説 列)\n+ 画像から抽出された十進緯度経度の位置情報(lat,lon 列)",
      "metadata": {}
    },
    {
      "cell_type": "code",
      "source": "import pandas as pd\ndf = pd.read_csv(\"photo_data.csv\")\ndf",
      "metadata": {
        "trusted": true
      },
      "execution_count": null,
      "outputs": []
    },
    {
      "cell_type": "markdown",
      "source": "読み込んだ情報をFoliumを用いて地図上にプロット\n+ 背景はOpenStreetMap\n+ マーカをクリックすると画像のプレビューとタイトルがポップアップする",
      "metadata": {}
    },
    {
      "cell_type": "code",
      "source": "import folium\n# シンプルな地図を用意\n\nmap0 = folium.Map(\n   # 地図の初期位置を決める(十進緯度経度で都庁の位置を指定)\n   location=[35.708886,139.710989],\n   # ズームレベルの初期値\n   zoom_start = 12,\n   # 地図の種類の選択\n   tiles = \"OpenStreetMap\"\n)\n\n# 指定した位置にマーカーを置くコード(とりあえずいろいろデフォルトのまま)\nfor i in range(len(df)):\n    #画像preview用のURLの生成\n    #Formsにアップした画像が格納されている列名を指定する(ここでは\"画像ファイルの指定\")\n    #googledrive上のパスを文字列として抽出\n    s = df.iloc[i][\"画像ファイルの指定\"]\n    \n    # =で文字列を分割することで 画像ID を抽出し\n    #画像Previewに用いるベースのURL文字列に結合することで\n    #Preview用のURLを生成する\n    # 2024年02月時点で以下の記載でポップアップのプレビュー表示が可能\n    # (たまにgoogledriveの仕様が変わるので注意)\n    sep = '='\n    imgview = \"https://lh3.googleusercontent.com/d/\" + s.split(sep)[1]\n    folium.Marker(\n        # lat lon の順序でリストで緯度経度を指定\n        # 緯度と経度が格納されている列名を指定する(ここでは \"lat\" \"lon\")\n        location = [df.iloc[i][\"lat\"], df.iloc[i][\"lon\"]],\n        \n        # マウスオーバー時に表示される列名を指定(ここではタイトル)\n        tooltip = str(df.iloc[i][\"タイトル\"]),\n        \n        # ポップアップ表示ではタイトル,画像へのリンク,画像のpreviewを表示\n        popup = '<table width=\"150\"><tr><th><a href=\"' \n                 + str(df.iloc[i][\"画像ファイルの指定\"])\n                 + '\" target=\"_blank\">' \n                 + str(df.iloc[i][\"タイトル\"]) \n                 + '</a></th></tr>'\n                 + '<tr><td><img src=\"' + imgview + '\" width=\"150\"></td><tr/></table>', \n    ).add_to(map0)\n\n# ブラウザで開くと同じ地図が表示されるhtmlファイルとして出力(保存)\n#map0.save(\"map.html\")\n\n# 地図をjupyterlab上で描画する\nmap0",
      "metadata": {
        "trusted": true
      },
      "execution_count": null,
      "outputs": []
    }
  ]
}